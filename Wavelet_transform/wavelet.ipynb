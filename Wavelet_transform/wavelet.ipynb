{
 "cells": [
  {
   "attachments": {},
   "cell_type": "markdown",
   "metadata": {},
   "source": [
    "The aim of this task is to apply the wavelet transform using Haar wavelet on a grayscale image and study its denoising capabilities. In the first part, we will perform a one-level wavelet decomposition on the image and apply a threshold to remove noise. We will then calculate the peak signal-to-noise ratio (PSNR) of the reconstructed image and plot it against the threshold value. In the second part, we will add Gaussian white noise to the image and repeat the process to find the optimal threshold value for denoising. Finally, we will perform a two-level wavelet decomposition and find the optimal threshold values for each level."
   ]
  },
  {
   "cell_type": "code",
   "execution_count": 1,
   "metadata": {},
   "outputs": [],
   "source": [
    "import cv2\n",
    "import numpy as np\n",
    "from skimage.metrics import peak_signal_noise_ratio\n",
    "import pywt\n",
    "import matplotlib.pyplot as plt"
   ]
  },
  {
   "attachments": {},
   "cell_type": "markdown",
   "metadata": {},
   "source": [
    "We begin by importing necessary libraries, including OpenCV for reading and displaying images, NumPy for numerical computations, scikit-image for calculating PSNR, and PyWavelets for performing wavelet decomposition."
   ]
  },
  {
   "cell_type": "code",
   "execution_count": 3,
   "metadata": {},
   "outputs": [],
   "source": [
    "img = cv2.imread('noisy.jpeg')\n",
    "gray1=cv2.cvtColor(img, cv2.COLOR_BGR2GRAY)\n",
    "noise = np.random.normal(0, 50, img.shape)\n",
    "noisy_img = img.astype(np.float64) + noise\n",
    "noisy_img = np.clip(noisy_img, 0, 255)\n",
    "noisy_img = cv2.convertScaleAbs(noisy_img)\n"
   ]
  },
  {
   "attachments": {},
   "cell_type": "markdown",
   "metadata": {},
   "source": [
    "Next, we read the grayscale image and add Gaussian white noise with a mean of zero and standard deviation of 50."
   ]
  },
  {
   "cell_type": "code",
   "execution_count": 4,
   "metadata": {},
   "outputs": [],
   "source": [
    "gray = cv2.cvtColor(noisy_img, cv2.COLOR_BGR2GRAY)\n",
    "coeffs = pywt.dwt2(gray, 'haar')\n",
    "cA, (cH, cV, cD) = coeffs\n"
   ]
  },
  {
   "attachments": {},
   "cell_type": "markdown",
   "metadata": {},
   "source": [
    "We then performed one-level wavelet decomposition on the noisy image using the Haar wavelet.\n",
    "We can now plot the evolution of the optimal threshold for denoising as a function of the noise level (D). We will repeat the entire process with two levels (L1 and L2) in the multiresolution analysis, and find the optimal thresholds T1 and T2. We will also investigate the relationship between T1 and T2."
   ]
  },
  {
   "cell_type": "code",
   "execution_count": 5,
   "metadata": {},
   "outputs": [
    {
     "data": {
      "text/plain": [
       "[<matplotlib.lines.Line2D at 0x1fa6b6dda80>]"
      ]
     },
     "execution_count": 5,
     "metadata": {},
     "output_type": "execute_result"
    },
    {
     "data": {
      "image/png": "[encoded data removed]",
      "text/plain": [
       "<Figure size 640x480 with 1 Axes>"
      ]
     },
     "metadata": {},
     "output_type": "display_data"
    }
   ],
   "source": [
    "threshold_list = list(np.arange(0,256,10))\n",
    "psnr=[]\n",
    "bestpsnr=0\n",
    "for threshold_ in threshold_list:\n",
    "    cH_ = pywt.threshold(cH, threshold_,mode='hard')\n",
    "    cV_ = pywt.threshold(cV, threshold_,mode='hard')\n",
    "    cD_ = pywt.threshold(cD, threshold_,mode='hard')\n",
    "    coeffs_ = cA, (cH_, cV_, cD_)\n",
    "    compressed_image_ = pywt.idwt2(coeffs_, 'haar')\n",
    "    compressed_image_ = np.uint8(compressed_image_)\n",
    "    compressed_image_ = cv2.resize(compressed_image_, gray1.shape[::-1])\n",
    "    psnr_ = peak_signal_noise_ratio(gray1, compressed_image_)\n",
    "    psnr.append(psnr_)\n",
    "    if psnr_>bestpsnr:\n",
    "        bestthreshold=threshold_\n",
    "        bestpsnr=psnr_\n",
    "        bestcH=cH_\n",
    "        bestcV=cV_\n",
    "        bestcD=cD_\n",
    "        bestcoeffs=coeffs_\n",
    "        bestcompressed_image=compressed_image_\n",
    "plt.plot(threshold_list,psnr)\n"
   ]
  },
  {
   "attachments": {},
   "cell_type": "markdown",
   "metadata": {},
   "source": [
    "We repeat the above process for the noisy image to find the optimal threshold value for denoising."
   ]
  },
  {
   "cell_type": "code",
   "execution_count": 6,
   "metadata": {},
   "outputs": [
    {
     "name": "stderr",
     "output_type": "stream",
     "text": [
      "C:\\Users\\hp\\AppData\\Local\\Temp\\ipykernel_4276\\2812187253.py:13: RuntimeWarning: invalid value encountered in divide\n",
      "  cv2.imshow('diagonal high frequency coefficients',  cv2.convertScaleAbs(((bestcD - np.min(bestcD)) / (np.max(bestcD) - np.min(bestcD))) * 255 ))\n",
      "C:\\Users\\hp\\AppData\\Local\\Temp\\ipykernel_4276\\2812187253.py:14: RuntimeWarning: invalid value encountered in divide\n",
      "  cv2.imwrite('diagonal high frequency.png',cv2.convertScaleAbs(((bestcD - np.min(bestcD)) / (np.max(bestcD) - np.min(bestcD))) * 255 ))\n"
     ]
    }
   ],
   "source": [
    "cv2.imshow('original', gray1)\n",
    "cv2.imwrite('original.png', gray1)\n",
    "cv2.imshow('noisy image', gray)\n",
    "cv2.imwrite('noisy image.png', gray)\n",
    "cv2.imshow('compressed', bestcompressed_image.astype(np.uint8))\n",
    "cv2.imwrite('compressed image.png', bestcompressed_image)\n",
    "cv2.imshow('low frequency coefficients', cv2.convertScaleAbs(((cA - np.min(cA)) / (np.max(cA) - np.min(cA))) * 255 ))\n",
    "cv2.imwrite('low frequency coefficients.png', cv2.convertScaleAbs(((cA - np.min(cA)) / (np.max(cA) - np.min(cA))) * 255 ))\n",
    "cv2.imshow('horizontal high frequency coefficients', cv2.convertScaleAbs(((bestcH - np.min(bestcH)) / (np.max(bestcH) - np.min(bestcH))) * 255 ))\n",
    "cv2.imwrite('horizontal high frequency.png', cv2.convertScaleAbs(((bestcH - np.min(bestcH)) / (np.max(bestcH) - np.min(bestcH))) * 255 ))\n",
    "cv2.imshow('vertical high frequency coefficients',  cv2.convertScaleAbs(((bestcV - np.min(bestcV)) / (np.max(bestcV) - np.min(bestcV))) * 255 ))\n",
    "cv2.imwrite('vertical high frequency.png',cv2.convertScaleAbs(((bestcV - np.min(bestcV)) / (np.max(bestcV) - np.min(bestcV))) * 255 ))\n",
    "cv2.imshow('diagonal high frequency coefficients',  cv2.convertScaleAbs(((bestcD - np.min(bestcD)) / (np.max(bestcD) - np.min(bestcD))) * 255 ))\n",
    "cv2.imwrite('diagonal high frequency.png',cv2.convertScaleAbs(((bestcD - np.min(bestcD)) / (np.max(bestcD) - np.min(bestcD))) * 255 ))\n",
    "cv2.waitKey(0)\n",
    "cv2.destroyAllWindows()\n",
    "\n",
    "print('best PSNR:', bestpsnr)\n",
    "print('best threshlod:', bestthreshold)"
   ]
  },
  {
   "attachments": {},
   "cell_type": "markdown",
   "metadata": {},
   "source": [
    "In the end we just listed all the images of result."
   ]
  }
 ],
 "metadata": {
  "kernelspec": {
   "display_name": "Python 3",
   "language": "python",
   "name": "python3"
  },
  "language_info": {
   "codemirror_mode": {
    "name": "ipython",
    "version": 3
   },
   "file_extension": ".py",
   "mimetype": "text/x-python",
   "name": "python",
   "nbconvert_exporter": "python",
   "pygments_lexer": "ipython3",
   "version": "3.10.11"
  },
  "orig_nbformat": 4
 },
 "nbformat": 4,
 "nbformat_minor": 2
}
